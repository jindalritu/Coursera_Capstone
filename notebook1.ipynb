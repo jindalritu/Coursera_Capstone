{
 "cells": [
  {
   "cell_type": "markdown",
   "id": "elect-franklin",
   "metadata": {},
   "source": [
    "#This project aims to provide different location data providers "
   ]
  },
  {
   "cell_type": "code",
   "execution_count": null,
   "id": "powerful-father",
   "metadata": {},
   "outputs": [],
   "source": [
    "import pandas as pd\n",
    "import numpy as np\n"
   ]
  },
  {
   "cell_type": "code",
   "execution_count": 1,
   "id": "promising-biotechnology",
   "metadata": {},
   "outputs": [
    {
     "name": "stdout",
     "output_type": "stream",
     "text": [
      "Hello Capstone project course\n"
     ]
    }
   ],
   "source": [
    "print(\"Hello Capstone project course\")"
   ]
  },
  {
   "cell_type": "code",
   "execution_count": null,
   "id": "desirable-publication",
   "metadata": {},
   "outputs": [],
   "source": []
  }
 ],
 "metadata": {
  "kernelspec": {
   "display_name": "Python 3",
   "language": "python",
   "name": "python3"
  },
  "language_info": {
   "codemirror_mode": {
    "name": "ipython",
    "version": 3
   },
   "file_extension": ".py",
   "mimetype": "text/x-python",
   "name": "python",
   "nbconvert_exporter": "python",
   "pygments_lexer": "ipython3",
   "version": "3.9.0"
  }
 },
 "nbformat": 4,
 "nbformat_minor": 5
}
